{
 "cells": [
  {
   "cell_type": "markdown",
   "id": "f78d4ac7cbd1e6bb",
   "metadata": {},
   "source": [
    "# Data Preprocessing steps\n",
    "\n",
    "V1: https://mconverter.eu/convert/docx/md/\n",
    "V2: https://word2md.com/\n",
    "\n",
    "1. First, substitute \"---\" with \"-\" in the original file - v1\n",
    "2. Run the following code"
   ]
  },
  {
   "cell_type": "code",
   "execution_count": null,
   "id": "initial_id",
   "metadata": {
    "collapsed": true
   },
   "outputs": [],
   "source": [
    "# path = \"../data/grammar-level-1/grammar_list_word2md.md\"\n",
    "# clean_path = \"../data/grammar-level-1/grammar_list_clean_word2md.md\"\n",
    "\n",
    "# with open(path, 'r', encoding='utf-8') as f:\n",
    "#     lines = f.readlines()\n",
    "\n",
    "# # find all indices of description lines\n",
    "# desc_idxs = [i for i, L in enumerate(lines) if 'Описание' in L]\n",
    "# print(len(desc_idxs))\n",
    "# for idx in reversed(desc_idxs):\n",
    "#     hdr_idx = idx - 2\n",
    "\n",
    "#     # format header line as H2\n",
    "#     original = lines[hdr_idx].rstrip('\\n')\n",
    "#     lines[hdr_idx] = f'## {original}\\n'\n",
    "\n",
    "#     # insert delimiter above it\n",
    "#     lines.insert(hdr_idx, '\\n---\\n')\n",
    "\n",
    "# with open(clean_path, 'w', encoding='utf-8') as f:\n",
    "#     f.writelines(lines)"
   ]
  },
  {
   "cell_type": "markdown",
   "id": "4f8196f3253fa6c2",
   "metadata": {},
   "source": [
    "3. \"## ###\" на \"##\" BOTH\n",
    "4. Use this regex: \\{([^}]*)\\} to - v1\n",
    "    - Delete duplicating titles\n",
    "    - Empty titles (will be fixed)\n",
    "    - Delete any {mark}s\n",
    "5. \"** **\" на \" \" - вроде даже не обязательно - v1\n",
    "6. \"ENTER >\" на \"ENTER \\t\" - v1\n",
    "7. Signs with \\ in the beginning: \\\", \\~, \\|, \\., \\*, \\', \\[, \\], \\+ BOTH\n",
    "8. \"--\" на \"-\" - v1\n",
    "9. \"—\" на \"-\" - v2\n",
    "10. \"\\t-\" на \"-\" - v2\n",
    "11. \"[EMSP]\" на \"\\t\" BOTH\n",
    "12. Fix Long Grammar names accidentally separated. Use Obsidian table of content - easier to spot - v1\n",
    "13. Use this regex \\*\\*([^\\s\\uAC00-\\uD7AF])\\*\\* to spot weird bolding of single characters (e.g. **И**спользуется с существительными и выражает значение **«толь...) - V2\n",
    "14. Add | separator between Korean and Russian grammar names BOTH\n",
    "\n",
    "\n",
    "## Чекнуть \\~기(가) | ~기(가) + прилагательное!"
   ]
  },
  {
   "cell_type": "code",
   "execution_count": 2,
   "id": "d68e60bfdde3ac26",
   "metadata": {
    "ExecuteTime": {
     "end_time": "2025-06-14T11:06:51.656159Z",
     "start_time": "2025-06-14T11:06:51.652351Z"
    }
   },
   "outputs": [],
   "source": [
    "LEVEL = 1\n",
    "\n",
    "def parse_entry(text):\n",
    "    \"\"\"\n",
    "    Parse a single grammar explanation into a dictionary.\n",
    "    - Separates Korean and Russian grammar names from the header.\n",
    "    - Adds a predefined level.\n",
    "    - Extracts \"Смежные темы\" into a 'related_grammar' list.\n",
    "    - Stores the remaining description in the 'content' field.\n",
    "    \"\"\"\n",
    "    lines = text.strip().splitlines()\n",
    "\n",
    "    # --- 1. Parse Header ---\n",
    "    header_line = lines[0].strip()\n",
    "\n",
    "    # Clean the markdown: \"## **이/가 именительный падеж**\" -> \"이/가 именительный падеж\"\n",
    "    clean_header = \"\"\n",
    "    if header_line.startswith('##'):\n",
    "        clean_header = header_line.replace(\"*\", \"\").replace(\"#\", \"\").strip()\n",
    "\n",
    "    parts = clean_header.split(' | ', 1)\n",
    "    grammar_name_kr = parts[0]\n",
    "    grammar_name_rus = parts[1] if len(parts) > 1 else \"\"\n",
    "\n",
    "    # --- 2. Parse Content and Related Topics ---\n",
    "    content_lines = lines[1:]\n",
    "    related_grammar = []\n",
    "\n",
    "    # Trim any trailing empty lines to easily access the last content line\n",
    "    while content_lines and not content_lines[-1].strip():\n",
    "        content_lines.pop()\n",
    "\n",
    "    # Check if the last non-empty line contains the related topics\n",
    "    if content_lines and content_lines[-1].strip().startswith('Смежные темы:'):\n",
    "        # Extract the line and remove it from the content_lines list\n",
    "        related_topics_line = content_lines.pop().strip()\n",
    "\n",
    "        # Get the string part after the colon\n",
    "        topics_str = related_topics_line.split(':', 1)[1]\n",
    "\n",
    "        # Split the topics by comma, strip whitespace from each, and filter out any empty results\n",
    "        related_grammar = [topic.strip() for topic in topics_str.split(',') if topic.strip()]\n",
    "\n",
    "    # Trim any leading empty lines from the remaining content\n",
    "    while content_lines and not content_lines[0].strip():\n",
    "        content_lines.pop(0)\n",
    "\n",
    "    # Join the remaining lines to form the main content\n",
    "    content = \"\\n\".join(content_lines)\n",
    "\n",
    "    return {\n",
    "        \"grammar_name_kr\": grammar_name_kr,\n",
    "        \"grammar_name_rus\": grammar_name_rus,\n",
    "        \"level\": LEVEL,\n",
    "        \"related_grammars\": related_grammar,\n",
    "        \"content\": content\n",
    "    }"
   ]
  },
  {
   "cell_type": "code",
   "execution_count": 3,
   "id": "3f121207dce20a15",
   "metadata": {
    "ExecuteTime": {
     "end_time": "2025-06-14T11:07:16.967678Z",
     "start_time": "2025-06-14T11:07:16.964647Z"
    }
   },
   "outputs": [],
   "source": [
    "def parse_input_md(input_text):\n",
    "    parts = input_text.split('---')\n",
    "    entries = []\n",
    "    for part in parts:\n",
    "        part = part.strip()\n",
    "        if not part:\n",
    "            continue\n",
    "        entry = parse_entry(part)\n",
    "        entries.append(entry)\n",
    "    return entries\n",
    "\n",
    "with open(\"../data/grammar-level-1/v2/grammar_list_clean_word2md.md\", \"r\", encoding=\"utf-8\") as infile:\n",
    "    grammar_text = infile.read()"
   ]
  },
  {
   "cell_type": "code",
   "execution_count": 4,
   "id": "5908f52529aaad90",
   "metadata": {
    "ExecuteTime": {
     "end_time": "2025-06-14T11:07:17.769596Z",
     "start_time": "2025-06-14T11:07:17.767069Z"
    }
   },
   "outputs": [],
   "source": [
    "grammar_list = parse_input_md(grammar_text)"
   ]
  },
  {
   "cell_type": "code",
   "execution_count": 5,
   "id": "cc0334941e1591b4",
   "metadata": {
    "ExecuteTime": {
     "end_time": "2025-06-14T11:07:18.325106Z",
     "start_time": "2025-06-14T11:07:18.322429Z"
    }
   },
   "outputs": [
    {
     "data": {
      "text/plain": [
       "74"
      ]
     },
     "execution_count": 5,
     "metadata": {},
     "output_type": "execute_result"
    }
   ],
   "source": [
    "len(grammar_list)"
   ]
  },
  {
   "cell_type": "code",
   "execution_count": 6,
   "id": "2f417d3d87b8c809",
   "metadata": {
    "ExecuteTime": {
     "end_time": "2025-06-14T11:07:37.172953Z",
     "start_time": "2025-06-14T11:07:37.170395Z"
    }
   },
   "outputs": [
    {
     "data": {
      "text/plain": [
       "{'grammar_name_kr': '이/가',\n",
       " 'grammar_name_rus': 'именительный падеж',\n",
       " 'level': 1,\n",
       " 'related_grammars': ['은/는', '께서'],\n",
       " 'content': '**Описание:**\\nЧастицы **이/가** обозначают **именительный падеж** и используются для указания на подлежащее в предложении. Они выполняют роль указания на **того, кто совершает действие** или **находится в определённом состоянии**. Также часто используются, когда вводится **новая информация** или подчёркивается субъект.\\n\\n**Форма:**\\n**Существительное + 이/가**\\n\\n> Если существительное заканчивается на **согласную** → добавляется **이**\\n\\n> Если на **гласную** → добавляется **가**\\n\\n**Примеры:**\\n학생**이** 교실에 있어요.\\nСтудент находится в аудитории.\\n\\n고양이**가** 귀여워요.\\nКошка милая.\\n\\n오늘**이** 제 생일입니다.\\nСегодня мой день рождения.\\n\\n**Примечания:**\\n\\n1. Частицы **이/가** используются чаще всего, когда информация **новая**, в отличие от **은/는**, которые указывают на **тему разговора**.\\n2. Есть несколько существительных, которые полностью изменяются в именительном падеже:\\n\\n나 → 내가, 저 →제가\\n\\n누구 → 누가\\n\\n**Например:**\\n\\nА: 이 일을 누가 했어요?\\n\\nВ: 제가 했어요?\\n\\nА: Кто сделал эту работу?\\n\\nВ: Я сделал.\\n\\n1. Для выражения подлежащего, обозначающего **уважаемое лицо**, используется вежливая форма **께서**, вместо **이/가**.\\n\\n**Например:**\\n선생님**께서** 오셨어요.\\nУчитель пришёл.\\n'}"
      ]
     },
     "execution_count": 6,
     "metadata": {},
     "output_type": "execute_result"
    }
   ],
   "source": [
    "grammar_list[0]"
   ]
  },
  {
   "cell_type": "code",
   "execution_count": 18,
   "id": "fc946765c2c1c91e",
   "metadata": {},
   "outputs": [
    {
     "data": {
      "text/html": [
       "<div>\n",
       "<style scoped>\n",
       "    .dataframe tbody tr th:only-of-type {\n",
       "        vertical-align: middle;\n",
       "    }\n",
       "\n",
       "    .dataframe tbody tr th {\n",
       "        vertical-align: top;\n",
       "    }\n",
       "\n",
       "    .dataframe thead th {\n",
       "        text-align: right;\n",
       "    }\n",
       "</style>\n",
       "<table border=\"1\" class=\"dataframe\">\n",
       "  <thead>\n",
       "    <tr style=\"text-align: right;\">\n",
       "      <th></th>\n",
       "      <th>grammar_name_kr</th>\n",
       "      <th>grammar_name_rus</th>\n",
       "      <th>level</th>\n",
       "      <th>related_grammars</th>\n",
       "      <th>content</th>\n",
       "    </tr>\n",
       "    <tr>\n",
       "      <th>grammar_id</th>\n",
       "      <th></th>\n",
       "      <th></th>\n",
       "      <th></th>\n",
       "      <th></th>\n",
       "      <th></th>\n",
       "    </tr>\n",
       "  </thead>\n",
       "  <tbody>\n",
       "    <tr>\n",
       "      <th>800221b78d16f6518e6a5a5b9276312f</th>\n",
       "      <td>이/가</td>\n",
       "      <td>именительный падеж</td>\n",
       "      <td>1</td>\n",
       "      <td>[은/는, 께서]</td>\n",
       "      <td>**Описание:**\\nЧастицы **이/가** обозначают **им...</td>\n",
       "    </tr>\n",
       "    <tr>\n",
       "      <th>71fbc9238b11089e5fc4619213435819</th>\n",
       "      <td>와/과</td>\n",
       "      <td>«и», перечисление существительных</td>\n",
       "      <td>1</td>\n",
       "      <td>[하고, (이)랑]</td>\n",
       "      <td>**Описание:**\\nИспользуется для перечисления п...</td>\n",
       "    </tr>\n",
       "    <tr>\n",
       "      <th>94411eeab161532f99eb648d223c604c</th>\n",
       "      <td>와/과</td>\n",
       "      <td>«с», совместное действие</td>\n",
       "      <td>1</td>\n",
       "      <td>[하고, (이)랑]</td>\n",
       "      <td>**Описание:**\\nУказывает на лицо или объект, с...</td>\n",
       "    </tr>\n",
       "    <tr>\n",
       "      <th>47044081d8be03af2b39561ba862fa69</th>\n",
       "      <td>까지</td>\n",
       "      <td>«до»</td>\n",
       "      <td>1</td>\n",
       "      <td>[부터, 에서 \"из\"]</td>\n",
       "      <td>**Описание:**\\nЧастица **까지** используется для...</td>\n",
       "    </tr>\n",
       "    <tr>\n",
       "      <th>c0a4df63cbf58912c1080bf8eb0707ca</th>\n",
       "      <td>께서</td>\n",
       "      <td>именительный падеж (вежл.)</td>\n",
       "      <td>1</td>\n",
       "      <td>[이/가, 께, 께서는, -(으)시-, -(으)세요]</td>\n",
       "      <td>**Описание:**\\n**Это вежливая форма** именител...</td>\n",
       "    </tr>\n",
       "  </tbody>\n",
       "</table>\n",
       "</div>"
      ],
      "text/plain": [
       "                                 grammar_name_kr  \\\n",
       "grammar_id                                         \n",
       "800221b78d16f6518e6a5a5b9276312f             이/가   \n",
       "71fbc9238b11089e5fc4619213435819             와/과   \n",
       "94411eeab161532f99eb648d223c604c             와/과   \n",
       "47044081d8be03af2b39561ba862fa69              까지   \n",
       "c0a4df63cbf58912c1080bf8eb0707ca              께서   \n",
       "\n",
       "                                                   grammar_name_rus  level  \\\n",
       "grammar_id                                                                   \n",
       "800221b78d16f6518e6a5a5b9276312f                 именительный падеж      1   \n",
       "71fbc9238b11089e5fc4619213435819  «и», перечисление существительных      1   \n",
       "94411eeab161532f99eb648d223c604c           «с», совместное действие      1   \n",
       "47044081d8be03af2b39561ba862fa69                               «до»      1   \n",
       "c0a4df63cbf58912c1080bf8eb0707ca         именительный падеж (вежл.)      1   \n",
       "\n",
       "                                               related_grammars  \\\n",
       "grammar_id                                                        \n",
       "800221b78d16f6518e6a5a5b9276312f                      [은/는, 께서]   \n",
       "71fbc9238b11089e5fc4619213435819                     [하고, (이)랑]   \n",
       "94411eeab161532f99eb648d223c604c                     [하고, (이)랑]   \n",
       "47044081d8be03af2b39561ba862fa69                  [부터, 에서 \"из\"]   \n",
       "c0a4df63cbf58912c1080bf8eb0707ca  [이/가, 께, 께서는, -(으)시-, -(으)세요]   \n",
       "\n",
       "                                                                            content  \n",
       "grammar_id                                                                           \n",
       "800221b78d16f6518e6a5a5b9276312f  **Описание:**\\nЧастицы **이/가** обозначают **им...  \n",
       "71fbc9238b11089e5fc4619213435819  **Описание:**\\nИспользуется для перечисления п...  \n",
       "94411eeab161532f99eb648d223c604c  **Описание:**\\nУказывает на лицо или объект, с...  \n",
       "47044081d8be03af2b39561ba862fa69  **Описание:**\\nЧастица **까지** используется для...  \n",
       "c0a4df63cbf58912c1080bf8eb0707ca  **Описание:**\\n**Это вежливая форма** именител...  "
      ]
     },
     "execution_count": 18,
     "metadata": {},
     "output_type": "execute_result"
    }
   ],
   "source": [
    "import pandas as pd\n",
    "import hashlib\n",
    "\n",
    "df = pd.DataFrame(grammar_list)\n",
    "\n",
    "def hash_text(text: str) -> str:\n",
    "    return hashlib.sha256(text.encode('utf-8')).hexdigest()[:32]\n",
    "\n",
    "df.index = df['content'].apply(hash_text)\n",
    "df.index.name = \"grammar_id\"\n",
    "df.head()"
   ]
  },
  {
   "cell_type": "markdown",
   "id": "f9e54e66",
   "metadata": {},
   "source": [
    "## Add converting СМЕЖНЫЕ ГРАММАТИКИ to IDs"
   ]
  },
  {
   "cell_type": "code",
   "execution_count": 24,
   "id": "90b66724",
   "metadata": {},
   "outputs": [
    {
     "data": {
      "text/html": [
       "<div>\n",
       "<style scoped>\n",
       "    .dataframe tbody tr th:only-of-type {\n",
       "        vertical-align: middle;\n",
       "    }\n",
       "\n",
       "    .dataframe tbody tr th {\n",
       "        vertical-align: top;\n",
       "    }\n",
       "\n",
       "    .dataframe thead th {\n",
       "        text-align: right;\n",
       "    }\n",
       "</style>\n",
       "<table border=\"1\" class=\"dataframe\">\n",
       "  <thead>\n",
       "    <tr style=\"text-align: right;\">\n",
       "      <th></th>\n",
       "      <th>grammar_name_kr</th>\n",
       "      <th>grammar_name_rus</th>\n",
       "      <th>level</th>\n",
       "      <th>related_grammars</th>\n",
       "      <th>content</th>\n",
       "    </tr>\n",
       "    <tr>\n",
       "      <th>grammar_id</th>\n",
       "      <th></th>\n",
       "      <th></th>\n",
       "      <th></th>\n",
       "      <th></th>\n",
       "      <th></th>\n",
       "    </tr>\n",
       "  </thead>\n",
       "  <tbody>\n",
       "    <tr>\n",
       "      <th>800221b78d16f6518e6a5a5b9276312f</th>\n",
       "      <td>이/가</td>\n",
       "      <td>именительный падеж</td>\n",
       "      <td>1</td>\n",
       "      <td>['은/는', '께서']</td>\n",
       "      <td>**Описание:**\\nЧастицы **이/가** обозначают **им...</td>\n",
       "    </tr>\n",
       "    <tr>\n",
       "      <th>71fbc9238b11089e5fc4619213435819</th>\n",
       "      <td>와/과</td>\n",
       "      <td>«и», перечисление существительных</td>\n",
       "      <td>1</td>\n",
       "      <td>['하고', '(이)랑']</td>\n",
       "      <td>**Описание:**\\nИспользуется для перечисления п...</td>\n",
       "    </tr>\n",
       "    <tr>\n",
       "      <th>94411eeab161532f99eb648d223c604c</th>\n",
       "      <td>와/과</td>\n",
       "      <td>«с», совместное действие</td>\n",
       "      <td>1</td>\n",
       "      <td>['하고', '(이)랑']</td>\n",
       "      <td>**Описание:**\\nУказывает на лицо или объект, с...</td>\n",
       "    </tr>\n",
       "    <tr>\n",
       "      <th>47044081d8be03af2b39561ba862fa69</th>\n",
       "      <td>까지</td>\n",
       "      <td>«до»</td>\n",
       "      <td>1</td>\n",
       "      <td>['부터', '에서 \"из\"']</td>\n",
       "      <td>**Описание:**\\nЧастица **까지** используется для...</td>\n",
       "    </tr>\n",
       "    <tr>\n",
       "      <th>c0a4df63cbf58912c1080bf8eb0707ca</th>\n",
       "      <td>께서</td>\n",
       "      <td>именительный падеж (вежл.)</td>\n",
       "      <td>1</td>\n",
       "      <td>['이/가', '께', '께서는', '-(으)시-', '-(으)세요']</td>\n",
       "      <td>**Описание:**\\n**Это вежливая форма** именител...</td>\n",
       "    </tr>\n",
       "  </tbody>\n",
       "</table>\n",
       "</div>"
      ],
      "text/plain": [
       "                                 grammar_name_kr  \\\n",
       "grammar_id                                         \n",
       "800221b78d16f6518e6a5a5b9276312f             이/가   \n",
       "71fbc9238b11089e5fc4619213435819             와/과   \n",
       "94411eeab161532f99eb648d223c604c             와/과   \n",
       "47044081d8be03af2b39561ba862fa69              까지   \n",
       "c0a4df63cbf58912c1080bf8eb0707ca              께서   \n",
       "\n",
       "                                                   grammar_name_rus  level  \\\n",
       "grammar_id                                                                   \n",
       "800221b78d16f6518e6a5a5b9276312f                 именительный падеж      1   \n",
       "71fbc9238b11089e5fc4619213435819  «и», перечисление существительных      1   \n",
       "94411eeab161532f99eb648d223c604c           «с», совместное действие      1   \n",
       "47044081d8be03af2b39561ba862fa69                               «до»      1   \n",
       "c0a4df63cbf58912c1080bf8eb0707ca         именительный падеж (вежл.)      1   \n",
       "\n",
       "                                                         related_grammars  \\\n",
       "grammar_id                                                                  \n",
       "800221b78d16f6518e6a5a5b9276312f                            ['은/는', '께서']   \n",
       "71fbc9238b11089e5fc4619213435819                           ['하고', '(이)랑']   \n",
       "94411eeab161532f99eb648d223c604c                           ['하고', '(이)랑']   \n",
       "47044081d8be03af2b39561ba862fa69                        ['부터', '에서 \"из\"']   \n",
       "c0a4df63cbf58912c1080bf8eb0707ca  ['이/가', '께', '께서는', '-(으)시-', '-(으)세요']   \n",
       "\n",
       "                                                                            content  \n",
       "grammar_id                                                                           \n",
       "800221b78d16f6518e6a5a5b9276312f  **Описание:**\\nЧастицы **이/가** обозначают **им...  \n",
       "71fbc9238b11089e5fc4619213435819  **Описание:**\\nИспользуется для перечисления п...  \n",
       "94411eeab161532f99eb648d223c604c  **Описание:**\\nУказывает на лицо или объект, с...  \n",
       "47044081d8be03af2b39561ba862fa69  **Описание:**\\nЧастица **까지** используется для...  \n",
       "c0a4df63cbf58912c1080bf8eb0707ca  **Описание:**\\n**Это вежливая форма** именител...  "
      ]
     },
     "execution_count": 24,
     "metadata": {},
     "output_type": "execute_result"
    }
   ],
   "source": [
    "df.to_csv(\"../data/grammar-level-1/v2/grammar_list_clean_word2md.csv\")\n",
    "pd.read_csv(\"../data/grammar-level-1/v2/grammar_list_clean_word2md.csv\", index_col=0).head()"
   ]
  },
  {
   "cell_type": "code",
   "execution_count": null,
   "id": "d07f460c",
   "metadata": {},
   "outputs": [],
   "source": []
  }
 ],
 "metadata": {
  "kernelspec": {
   "display_name": ".venv",
   "language": "python",
   "name": "python3"
  },
  "language_info": {
   "codemirror_mode": {
    "name": "ipython",
    "version": 3
   },
   "file_extension": ".py",
   "mimetype": "text/x-python",
   "name": "python",
   "nbconvert_exporter": "python",
   "pygments_lexer": "ipython3",
   "version": "3.12.9"
  }
 },
 "nbformat": 4,
 "nbformat_minor": 5
}
