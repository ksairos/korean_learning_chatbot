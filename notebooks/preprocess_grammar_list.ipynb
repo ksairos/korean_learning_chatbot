{
 "cells": [
  {
   "cell_type": "markdown",
   "id": "f78d4ac7cbd1e6bb",
   "metadata": {},
   "source": [
    "# Data Preprocessing steps\n",
    "\n",
    "V1: https://mconverter.eu/convert/docx/md/\n",
    "V2: https://word2md.com/\n",
    "\n",
    "1. First, substitute \"---\" with \"-\" in the original file - v1\n",
    "2. Run the following code"
   ]
  },
  {
   "cell_type": "code",
   "id": "initial_id",
   "metadata": {
    "collapsed": true,
    "ExecuteTime": {
     "end_time": "2025-06-29T09:19:57.412249Z",
     "start_time": "2025-06-29T09:19:57.358993Z"
    }
   },
   "source": [
    "from src.utils.strip_markdown import strip_markdown\n",
    "\n",
    "path = \"../data/grammar-level-1/final/grammar_list_word2md.md\"\n",
    "clean_path = \"../data/grammar-level-1/final/grammar_list_clean_word2md.md\"\n",
    "\n",
    "with open(path, 'r', encoding='utf-8') as f:\n",
    "    lines = f.readlines()\n",
    "\n",
    "# find all indices of description lines\n",
    "desc_idxs = [i for i, L in enumerate(lines) if 'Описание' in L]\n",
    "rev_idxs = list(reversed(desc_idxs))\n",
    "\n",
    "first = True\n",
    "for i, idx in enumerate(rev_idxs):\n",
    "    hdr_idx = idx - 2\n",
    "\n",
    "    # format header line as H2\n",
    "    original = lines[hdr_idx].rstrip('\\n')\n",
    "    original = strip_markdown(original)\n",
    "    lines[hdr_idx] = f'## {original}\\n'\n",
    "\n",
    "    # insert delimiter above it unless it's the first line\n",
    "    if i < len(rev_idxs) - 1:\n",
    "        lines.insert(hdr_idx, '\\n---\\n')\n",
    "\n",
    "with open(clean_path, 'w', encoding='utf-8') as f:\n",
    "    f.writelines(lines)"
   ],
   "outputs": [],
   "execution_count": 2
  },
  {
   "cell_type": "code",
   "id": "fa0c5c21e2316fa1",
   "metadata": {
    "ExecuteTime": {
     "end_time": "2025-06-29T09:22:44.498820Z",
     "start_time": "2025-06-29T09:22:44.480021Z"
    }
   },
   "source": [
    "import re\n",
    "\n",
    "with open(\"../data/grammar-level-1/final/grammar_list_clean_word2md.md\", 'r', encoding='utf-8') as f:\n",
    "    text = f.read()\n",
    "\n",
    "cleaned = text\n",
    "cleaned = cleaned.replace('## ###', '##')\n",
    "cleaned = re.sub(r'\\\\([^\\w\\s])', r'\\1', cleaned)\n",
    "cleaned = cleaned.replace('—', '-')\n",
    "cleaned = cleaned.replace('\\t-', '-')\n",
    "cleaned = cleaned.replace('<br/>', '\\n')\n",
    "cleaned = cleaned.replace('  \\n', '\\n')\n",
    "cleaned = re.sub(r'\\[EMSP\\]', '\\t', cleaned)\n",
    "cleaned = re.sub(r'\"(.*?)\"', r'«\\1»', cleaned)\n",
    "cleaned = re.sub(r\"'(.*?)'\", r'«\\1»', cleaned)\n",
    "cleaned = re.sub(r'\\*\\*([^\\s\\uAC00-\\uD7AF])\\*\\*', r'\\1', cleaned)\n",
    "\n",
    "with open(\"../data/grammar-level-1/final/grammar_list_clean_word2md.md\", 'w', encoding='utf-8') as f:\n",
    "    f.write(cleaned)"
   ],
   "outputs": [],
   "execution_count": 3
  },
  {
   "cell_type": "markdown",
   "id": "4f8196f3253fa6c2",
   "metadata": {},
   "source": [
    "3. \"## ###\" на \"##\" BOTH\n",
    "4. Use this regex: \\{([^}]*)\\} to - v1\n",
    "    - Delete duplicating titles\n",
    "    - Empty titles (will be fixed)\n",
    "    - Delete any {mark}s\n",
    "5. \"** **\" на \" \" - вроде даже не обязательно - v1\n",
    "6. \"ENTER >\" на \"ENTER \\t\" - v1\n",
    "7. Signs with \\ in the beginning: \\\", \\~, \\|, \\., \\*, \\', \\[, \\], \\+ BOTH\n",
    "8. \"--\" на \"-\" - v1\n",
    "9. \"—\" на \"-\" - v2\n",
    "10. \"\\t-\" на \"-\" - v2\n",
    "11. \"[EMSP]\" на \"\\t\" BOTH\n",
    "12. Fix Long Grammar names accidentally separated. Use Obsidian table of content - easier to spot - v1\n",
    "13. Use this regex \\*\\*([^\\s\\uAC00-\\uD7AF])\\*\\* to spot weird bolding of single characters (e.g. **И**спользуется с существительными и выражает значение **«толь...) - V2\n",
    "14. Add | separator between Korean and Russian grammar names BOTH\n",
    "15. \"  ENTER\" (space+space+ENTER) на \"ENTER\"\n",
    "\n",
    "\n",
    "16. \"•\" на \"-\"\n",
    "\n",
    "\n",
    "## Чекнуть \\~기(가) | ~기(가) + прилагательное!"
   ]
  },
  {
   "cell_type": "code",
   "id": "d68e60bfdde3ac26",
   "metadata": {
    "ExecuteTime": {
     "end_time": "2025-06-29T11:12:40.780125Z",
     "start_time": "2025-06-29T11:12:40.749373Z"
    }
   },
   "source": [
    "LEVEL = 1\n",
    "\n",
    "def parse_entry(text):\n",
    "    \"\"\"\n",
    "    Parse a single grammar explanation into a dictionary.\n",
    "    - Separates Korean and Russian grammar names from the header.\n",
    "    - Adds a predefined level.\n",
    "    - Extracts \"Смежные темы\" into a 'related_grammar' list.\n",
    "    - Stores the remaining description in the 'content' field.\n",
    "    \"\"\"\n",
    "    lines = text.strip().splitlines()\n",
    "\n",
    "    # --- 1. Parse Header ---\n",
    "    header_line = lines[0].strip()\n",
    "\n",
    "    # Clean the markdown: \"## **이/가 именительный падеж**\" -> \"이/가 именительный падеж\" -> 이/가 | именительный падеж\n",
    "    clean_header = \"\"\n",
    "    if header_line.startswith('##'):\n",
    "        clean_header = header_line.replace(\"*\", \"\").replace(\"#\", \"\").strip()\n",
    "        if '|' not in clean_header:\n",
    "            m = re.match(r'\\s*([^\\u0400-\\u04FF]+?)\\s*([«\\u0400-\\u04FF].+)', clean_header)\n",
    "            if m:\n",
    "                kor, rus = m.group(1).strip(), m.group(2).strip()\n",
    "                clean_header = f\"{kor}|{rus}\"\n",
    "\n",
    "    parts = clean_header.split('|', 1)\n",
    "    grammar_name_kr = parts[0].strip()\n",
    "    grammar_name_rus = parts[1].strip() if len(parts) > 1 else \"\"\n",
    "\n",
    "    # --- 2. Parse Content and Related Topics ---\n",
    "    content_lines = lines[1:]\n",
    "    related_grammar = []\n",
    "\n",
    "    # Trim any trailing empty lines to easily access the last content line\n",
    "    while content_lines and not content_lines[-1].strip():\n",
    "        content_lines.pop()\n",
    "\n",
    "    # Check if the last non-empty line contains the related topics\n",
    "    if content_lines and content_lines[-1].strip().startswith('Смежные темы:'):\n",
    "        # Extract the line and remove it from the content_lines list\n",
    "        related_topics_line = content_lines.pop().strip()\n",
    "\n",
    "        # Get the string part after the colon\n",
    "        topics_str = related_topics_line.split(':', 1)[1]\n",
    "\n",
    "        # Split the topics by comma, strip whitespace from each, and filter out any empty results\n",
    "        related_grammar = [topic.strip() for topic in topics_str.split(',') if topic.strip()]\n",
    "\n",
    "    # Trim any leading empty lines from the remaining content\n",
    "    while content_lines and not content_lines[0].strip():\n",
    "        content_lines.pop(0)\n",
    "\n",
    "    # Join the remaining lines to form the main content\n",
    "    content = \"\\n\".join(content_lines)\n",
    "\n",
    "    return {\n",
    "        \"grammar_name_kr\": grammar_name_kr,\n",
    "        \"grammar_name_rus\": grammar_name_rus,\n",
    "        \"level\": LEVEL,\n",
    "        \"related_grammars\": related_grammar,\n",
    "        \"content\": content\n",
    "    }"
   ],
   "outputs": [],
   "execution_count": 4
  },
  {
   "cell_type": "code",
   "id": "3f121207dce20a15",
   "metadata": {
    "ExecuteTime": {
     "end_time": "2025-06-29T11:12:43.554533Z",
     "start_time": "2025-06-29T11:12:43.546805Z"
    }
   },
   "source": [
    "def parse_input_md(input_text):\n",
    "    parts = input_text.split('---')\n",
    "    entries = []\n",
    "    for part in parts:\n",
    "        part = part.strip()\n",
    "        if not part:\n",
    "            continue\n",
    "        entry = parse_entry(part)\n",
    "        entries.append(entry)\n",
    "    return entries\n",
    "\n",
    "with open(\"../data/grammar-level-1/final/grammar_list_clean_word2md.md\", \"r\", encoding=\"utf-8\") as infile:\n",
    "    grammar_text = infile.read()"
   ],
   "outputs": [],
   "execution_count": 5
  },
  {
   "cell_type": "code",
   "id": "5908f52529aaad90",
   "metadata": {
    "ExecuteTime": {
     "end_time": "2025-06-29T11:12:45.967347Z",
     "start_time": "2025-06-29T11:12:45.960719Z"
    }
   },
   "source": [
    "grammar_list = parse_input_md(grammar_text)"
   ],
   "outputs": [],
   "execution_count": 6
  },
  {
   "cell_type": "code",
   "id": "cc0334941e1591b4",
   "metadata": {
    "ExecuteTime": {
     "end_time": "2025-06-29T11:12:47.249646Z",
     "start_time": "2025-06-29T11:12:47.234013Z"
    }
   },
   "source": [
    "len(grammar_list)"
   ],
   "outputs": [
    {
     "data": {
      "text/plain": [
       "108"
      ]
     },
     "execution_count": 7,
     "metadata": {},
     "output_type": "execute_result"
    }
   ],
   "execution_count": 7
  },
  {
   "cell_type": "code",
   "id": "2f417d3d87b8c809",
   "metadata": {
    "ExecuteTime": {
     "end_time": "2025-06-29T11:12:53.650351Z",
     "start_time": "2025-06-29T11:12:53.643710Z"
    }
   },
   "source": "grammar_list[69]",
   "outputs": [
    {
     "data": {
      "text/plain": [
       "{'grammar_name_kr': '(이)나',\n",
       " 'grammar_name_rus': '«даже», «аж»',\n",
       " 'level': 1,\n",
       " 'related_grammars': ['**(이)나 «или»', '(이)나 «что угодно»**'],\n",
       " 'content': '**Описание:**\\nЧастица (이)나 может использоваться для подчеркивания того, что количество, масштаб или степень чего-то **больше ожидаемого**.\\n\\n**Форма:**\\n**Существительное + (이)나**\\n> Если существительное заканчивается на **согласную** → добавляется **이나**\\n> Если на **гласную** → добавляется **나**\\n\\n**Примеры:**\\n혼자 피자 한 판**이나** 먹었어요.\\nСъел аж целую пиццу один.\\n\\n하루에 커피를 다섯 잔**이나** 마셔요.\\nВыпиваю аж пять чашек кофе в день.\\n\\n그 배우는 영화에 열 편**이나** 나왔어요.\\nЭтот актёр снялся аж в десяти фильмах.\\n\\n시험을 세 번**이나** 봤어요.\\nСдавала экзамен целых три раза.\\n\\n**Примечания:**\\n1. В этом значении частица часто ставится после числительных или существительных с количеством.\\n'}"
      ]
     },
     "execution_count": 9,
     "metadata": {},
     "output_type": "execute_result"
    }
   ],
   "execution_count": 9
  },
  {
   "cell_type": "code",
   "id": "fc946765c2c1c91e",
   "metadata": {
    "ExecuteTime": {
     "end_time": "2025-06-29T11:13:09.102908Z",
     "start_time": "2025-06-29T11:13:08.630307Z"
    }
   },
   "source": [
    "import pandas as pd\n",
    "import hashlib\n",
    "\n",
    "df = pd.DataFrame(grammar_list)\n",
    "\n",
    "def hash_text(text: str) -> str:\n",
    "    return hashlib.sha256(text.encode('utf-8')).hexdigest()[:32]\n",
    "\n",
    "grammar_name = df[\"grammar_name_kr\"] + \" \" + df[\"grammar_name_rus\"]\n",
    "df.index = grammar_name.apply(hash_text)\n",
    "df.index.name = \"grammar_id\"\n",
    "df"
   ],
   "outputs": [
    {
     "data": {
      "text/plain": [
       "                                    grammar_name_kr  \\\n",
       "grammar_id                                            \n",
       "602036e488ddf85722f218e49087c45a                이/가   \n",
       "bd5253ce8e0b11a7ee24bce4850cb389                와/과   \n",
       "27bcb1cd7ba042c6f7214fdd1ea1cf6c                와/과   \n",
       "2749970a6a7f10f83726d189e561fe78                 까지   \n",
       "c7c87e5469bf9ac9161ae90d5bf3e702                 께서   \n",
       "...                                             ...   \n",
       "f2fc97bee878b07d1f8280fbf6ca5543       V + -아/어도 되다   \n",
       "e652e703e0b0a78afd83dd4f2d693276          V + -지 말다   \n",
       "4c037898975a6fdecdcd870c385dd03f   V + -(으)ㄹ 수밖에 없다   \n",
       "c68fb444b2a862496b5e2fe4d6c3cf9d    V/A + -(으)ㄹ 것이다   \n",
       "8d6f9dc436fd95966cdf414cffd6377a  V/A/N + -(으)ㄹ 것이다   \n",
       "\n",
       "                                                   grammar_name_rus  level  \\\n",
       "grammar_id                                                                   \n",
       "602036e488ddf85722f218e49087c45a                 именительный падеж      1   \n",
       "bd5253ce8e0b11a7ee24bce4850cb389  «и», перечисление существительных      1   \n",
       "27bcb1cd7ba042c6f7214fdd1ea1cf6c           «с», совместное действие      1   \n",
       "2749970a6a7f10f83726d189e561fe78                               «до»      1   \n",
       "c7c87e5469bf9ac9161ae90d5bf3e702         именительный падеж (вежл.)      1   \n",
       "...                                                             ...    ...   \n",
       "f2fc97bee878b07d1f8280fbf6ca5543               «можно, разрешается»      1   \n",
       "e652e703e0b0a78afd83dd4f2d693276                       «не делайте»      1   \n",
       "4c037898975a6fdecdcd870c385dd03f   «ничего не остаётся, кроме как…»      1   \n",
       "c68fb444b2a862496b5e2fe4d6c3cf9d                      будущее время      1   \n",
       "8d6f9dc436fd95966cdf414cffd6377a             догадка, предположение      1   \n",
       "\n",
       "                                                                   related_grammars  \\\n",
       "grammar_id                                                                            \n",
       "602036e488ddf85722f218e49087c45a                    [은/는 выделительная частица, 께서]   \n",
       "bd5253ce8e0b11a7ee24bce4850cb389                                         [하고, (이)랑]   \n",
       "27bcb1cd7ba042c6f7214fdd1ea1cf6c                                         [하고, (이)랑]   \n",
       "2749970a6a7f10f83726d189e561fe78                                      [부터, 에서 «из»]   \n",
       "c7c87e5469bf9ac9161ae90d5bf3e702                      [이/가, 께, 께서는, -(으)시-, -(으)세요]   \n",
       "...                                                                             ...   \n",
       "f2fc97bee878b07d1f8280fbf6ca5543                                                 []   \n",
       "e652e703e0b0a78afd83dd4f2d693276                                           [-(으)세요]   \n",
       "4c037898975a6fdecdcd870c385dd03f                                                 []   \n",
       "c68fb444b2a862496b5e2fe4d6c3cf9d  [**-(으)ㄹ 것이다** догадка, предположение, -겠- буд...   \n",
       "8d6f9dc436fd95966cdf414cffd6377a   [**V/A + -(으)ㄹ 것이다** будущее время, -겠- догадка]   \n",
       "\n",
       "                                                                            content  \n",
       "grammar_id                                                                           \n",
       "602036e488ddf85722f218e49087c45a  **Описание:**\\nЧастицы **이/가** обозначают **им...  \n",
       "bd5253ce8e0b11a7ee24bce4850cb389  **Описание:**\\nИспользуется для перечисления п...  \n",
       "27bcb1cd7ba042c6f7214fdd1ea1cf6c  **Описание:**\\nУказывает на лицо или объект, с...  \n",
       "2749970a6a7f10f83726d189e561fe78  **Описание:**\\nЧастица **까지** используется для...  \n",
       "c7c87e5469bf9ac9161ae90d5bf3e702  **Описание:**\\nЭто **вежливая форма** именител...  \n",
       "...                                                                             ...  \n",
       "f2fc97bee878b07d1f8280fbf6ca5543  **Описание:**\\nКонструкция -아/어도 되다 использует...  \n",
       "e652e703e0b0a78afd83dd4f2d693276  **Описание:**\\nКонструкция -지 말다 используется ...  \n",
       "4c037898975a6fdecdcd870c385dd03f  **Описание:**\\nКонструкция -(으)ㄹ 수밖에 없다 исполь...  \n",
       "c68fb444b2a862496b5e2fe4d6c3cf9d  **Описание:**\\nКонструкция используется для вы...  \n",
       "8d6f9dc436fd95966cdf414cffd6377a  **Описание:**\\nКонструкция используется для **...  \n",
       "\n",
       "[108 rows x 5 columns]"
      ],
      "text/html": [
       "<div>\n",
       "<style scoped>\n",
       "    .dataframe tbody tr th:only-of-type {\n",
       "        vertical-align: middle;\n",
       "    }\n",
       "\n",
       "    .dataframe tbody tr th {\n",
       "        vertical-align: top;\n",
       "    }\n",
       "\n",
       "    .dataframe thead th {\n",
       "        text-align: right;\n",
       "    }\n",
       "</style>\n",
       "<table border=\"1\" class=\"dataframe\">\n",
       "  <thead>\n",
       "    <tr style=\"text-align: right;\">\n",
       "      <th></th>\n",
       "      <th>grammar_name_kr</th>\n",
       "      <th>grammar_name_rus</th>\n",
       "      <th>level</th>\n",
       "      <th>related_grammars</th>\n",
       "      <th>content</th>\n",
       "    </tr>\n",
       "    <tr>\n",
       "      <th>grammar_id</th>\n",
       "      <th></th>\n",
       "      <th></th>\n",
       "      <th></th>\n",
       "      <th></th>\n",
       "      <th></th>\n",
       "    </tr>\n",
       "  </thead>\n",
       "  <tbody>\n",
       "    <tr>\n",
       "      <th>602036e488ddf85722f218e49087c45a</th>\n",
       "      <td>이/가</td>\n",
       "      <td>именительный падеж</td>\n",
       "      <td>1</td>\n",
       "      <td>[은/는 выделительная частица, 께서]</td>\n",
       "      <td>**Описание:**\\nЧастицы **이/가** обозначают **им...</td>\n",
       "    </tr>\n",
       "    <tr>\n",
       "      <th>bd5253ce8e0b11a7ee24bce4850cb389</th>\n",
       "      <td>와/과</td>\n",
       "      <td>«и», перечисление существительных</td>\n",
       "      <td>1</td>\n",
       "      <td>[하고, (이)랑]</td>\n",
       "      <td>**Описание:**\\nИспользуется для перечисления п...</td>\n",
       "    </tr>\n",
       "    <tr>\n",
       "      <th>27bcb1cd7ba042c6f7214fdd1ea1cf6c</th>\n",
       "      <td>와/과</td>\n",
       "      <td>«с», совместное действие</td>\n",
       "      <td>1</td>\n",
       "      <td>[하고, (이)랑]</td>\n",
       "      <td>**Описание:**\\nУказывает на лицо или объект, с...</td>\n",
       "    </tr>\n",
       "    <tr>\n",
       "      <th>2749970a6a7f10f83726d189e561fe78</th>\n",
       "      <td>까지</td>\n",
       "      <td>«до»</td>\n",
       "      <td>1</td>\n",
       "      <td>[부터, 에서 «из»]</td>\n",
       "      <td>**Описание:**\\nЧастица **까지** используется для...</td>\n",
       "    </tr>\n",
       "    <tr>\n",
       "      <th>c7c87e5469bf9ac9161ae90d5bf3e702</th>\n",
       "      <td>께서</td>\n",
       "      <td>именительный падеж (вежл.)</td>\n",
       "      <td>1</td>\n",
       "      <td>[이/가, 께, 께서는, -(으)시-, -(으)세요]</td>\n",
       "      <td>**Описание:**\\nЭто **вежливая форма** именител...</td>\n",
       "    </tr>\n",
       "    <tr>\n",
       "      <th>...</th>\n",
       "      <td>...</td>\n",
       "      <td>...</td>\n",
       "      <td>...</td>\n",
       "      <td>...</td>\n",
       "      <td>...</td>\n",
       "    </tr>\n",
       "    <tr>\n",
       "      <th>f2fc97bee878b07d1f8280fbf6ca5543</th>\n",
       "      <td>V + -아/어도 되다</td>\n",
       "      <td>«можно, разрешается»</td>\n",
       "      <td>1</td>\n",
       "      <td>[]</td>\n",
       "      <td>**Описание:**\\nКонструкция -아/어도 되다 использует...</td>\n",
       "    </tr>\n",
       "    <tr>\n",
       "      <th>e652e703e0b0a78afd83dd4f2d693276</th>\n",
       "      <td>V + -지 말다</td>\n",
       "      <td>«не делайте»</td>\n",
       "      <td>1</td>\n",
       "      <td>[-(으)세요]</td>\n",
       "      <td>**Описание:**\\nКонструкция -지 말다 используется ...</td>\n",
       "    </tr>\n",
       "    <tr>\n",
       "      <th>4c037898975a6fdecdcd870c385dd03f</th>\n",
       "      <td>V + -(으)ㄹ 수밖에 없다</td>\n",
       "      <td>«ничего не остаётся, кроме как…»</td>\n",
       "      <td>1</td>\n",
       "      <td>[]</td>\n",
       "      <td>**Описание:**\\nКонструкция -(으)ㄹ 수밖에 없다 исполь...</td>\n",
       "    </tr>\n",
       "    <tr>\n",
       "      <th>c68fb444b2a862496b5e2fe4d6c3cf9d</th>\n",
       "      <td>V/A + -(으)ㄹ 것이다</td>\n",
       "      <td>будущее время</td>\n",
       "      <td>1</td>\n",
       "      <td>[**-(으)ㄹ 것이다** догадка, предположение, -겠- буд...</td>\n",
       "      <td>**Описание:**\\nКонструкция используется для вы...</td>\n",
       "    </tr>\n",
       "    <tr>\n",
       "      <th>8d6f9dc436fd95966cdf414cffd6377a</th>\n",
       "      <td>V/A/N + -(으)ㄹ 것이다</td>\n",
       "      <td>догадка, предположение</td>\n",
       "      <td>1</td>\n",
       "      <td>[**V/A + -(으)ㄹ 것이다** будущее время, -겠- догадка]</td>\n",
       "      <td>**Описание:**\\nКонструкция используется для **...</td>\n",
       "    </tr>\n",
       "  </tbody>\n",
       "</table>\n",
       "<p>108 rows × 5 columns</p>\n",
       "</div>"
      ]
     },
     "execution_count": 10,
     "metadata": {},
     "output_type": "execute_result"
    }
   ],
   "execution_count": 10
  },
  {
   "cell_type": "code",
   "id": "365d38572e6b7d45",
   "metadata": {
    "ExecuteTime": {
     "end_time": "2025-06-29T11:13:25.673396Z",
     "start_time": "2025-06-29T11:13:25.668606Z"
    }
   },
   "source": [
    "type(df.iloc[0][\"related_grammars\"])"
   ],
   "outputs": [
    {
     "data": {
      "text/plain": [
       "list"
      ]
     },
     "execution_count": 11,
     "metadata": {},
     "output_type": "execute_result"
    }
   ],
   "execution_count": 11
  },
  {
   "cell_type": "code",
   "id": "31b9f0cfb3905485",
   "metadata": {
    "ExecuteTime": {
     "end_time": "2025-06-29T11:13:28.355706Z",
     "start_time": "2025-06-29T11:13:28.338496Z"
    }
   },
   "source": [
    "df[df.content.apply(lambda x: x.startswith('**Описание'))].info()"
   ],
   "outputs": [
    {
     "name": "stdout",
     "output_type": "stream",
     "text": [
      "<class 'pandas.core.frame.DataFrame'>\n",
      "Index: 108 entries, 602036e488ddf85722f218e49087c45a to 8d6f9dc436fd95966cdf414cffd6377a\n",
      "Data columns (total 5 columns):\n",
      " #   Column            Non-Null Count  Dtype \n",
      "---  ------            --------------  ----- \n",
      " 0   grammar_name_kr   108 non-null    object\n",
      " 1   grammar_name_rus  108 non-null    object\n",
      " 2   level             108 non-null    int64 \n",
      " 3   related_grammars  108 non-null    object\n",
      " 4   content           108 non-null    object\n",
      "dtypes: int64(1), object(4)\n",
      "memory usage: 9.1+ KB\n"
     ]
    }
   ],
   "execution_count": 12
  },
  {
   "cell_type": "markdown",
   "id": "f9e54e66",
   "metadata": {},
   "source": [
    "## Add converting СМЕЖНЫЕ ГРАММАТИКИ to IDs"
   ]
  },
  {
   "cell_type": "code",
   "id": "90b66724",
   "metadata": {
    "ExecuteTime": {
     "end_time": "2025-06-29T11:13:39.003657Z",
     "start_time": "2025-06-29T11:13:38.978327Z"
    }
   },
   "source": [
    "df.to_pickle(\"../data/grammar-level-1/final/grammar_list_clean_word2md.pkl\")\n",
    "new_df = pd.read_pickle(\"../data/grammar-level-1/final/grammar_list_clean_word2md.pkl\")"
   ],
   "outputs": [],
   "execution_count": 13
  },
  {
   "cell_type": "code",
   "id": "d07f460c",
   "metadata": {
    "ExecuteTime": {
     "end_time": "2025-06-29T11:13:39.770603Z",
     "start_time": "2025-06-29T11:13:39.765613Z"
    }
   },
   "source": [
    "type(df.iloc[0][\"related_grammars\"])"
   ],
   "outputs": [
    {
     "data": {
      "text/plain": [
       "list"
      ]
     },
     "execution_count": 14,
     "metadata": {},
     "output_type": "execute_result"
    }
   ],
   "execution_count": 14
  },
  {
   "cell_type": "code",
   "id": "dae9fcedba88b25e",
   "metadata": {
    "ExecuteTime": {
     "end_time": "2025-06-29T11:13:40.388110Z",
     "start_time": "2025-06-29T11:13:40.382771Z"
    }
   },
   "source": [
    "type(new_df.iloc[0][\"related_grammars\"])"
   ],
   "outputs": [
    {
     "data": {
      "text/plain": [
       "list"
      ]
     },
     "execution_count": 15,
     "metadata": {},
     "output_type": "execute_result"
    }
   ],
   "execution_count": 15
  },
  {
   "cell_type": "code",
   "id": "4eec7cfcf43e2463",
   "metadata": {
    "ExecuteTime": {
     "end_time": "2025-06-29T11:13:41.236082Z",
     "start_time": "2025-06-29T11:13:41.223233Z"
    }
   },
   "source": [
    "new_df"
   ],
   "outputs": [
    {
     "data": {
      "text/plain": [
       "                                    grammar_name_kr  \\\n",
       "grammar_id                                            \n",
       "602036e488ddf85722f218e49087c45a                이/가   \n",
       "bd5253ce8e0b11a7ee24bce4850cb389                와/과   \n",
       "27bcb1cd7ba042c6f7214fdd1ea1cf6c                와/과   \n",
       "2749970a6a7f10f83726d189e561fe78                 까지   \n",
       "c7c87e5469bf9ac9161ae90d5bf3e702                 께서   \n",
       "...                                             ...   \n",
       "f2fc97bee878b07d1f8280fbf6ca5543       V + -아/어도 되다   \n",
       "e652e703e0b0a78afd83dd4f2d693276          V + -지 말다   \n",
       "4c037898975a6fdecdcd870c385dd03f   V + -(으)ㄹ 수밖에 없다   \n",
       "c68fb444b2a862496b5e2fe4d6c3cf9d    V/A + -(으)ㄹ 것이다   \n",
       "8d6f9dc436fd95966cdf414cffd6377a  V/A/N + -(으)ㄹ 것이다   \n",
       "\n",
       "                                                   grammar_name_rus  level  \\\n",
       "grammar_id                                                                   \n",
       "602036e488ddf85722f218e49087c45a                 именительный падеж      1   \n",
       "bd5253ce8e0b11a7ee24bce4850cb389  «и», перечисление существительных      1   \n",
       "27bcb1cd7ba042c6f7214fdd1ea1cf6c           «с», совместное действие      1   \n",
       "2749970a6a7f10f83726d189e561fe78                               «до»      1   \n",
       "c7c87e5469bf9ac9161ae90d5bf3e702         именительный падеж (вежл.)      1   \n",
       "...                                                             ...    ...   \n",
       "f2fc97bee878b07d1f8280fbf6ca5543               «можно, разрешается»      1   \n",
       "e652e703e0b0a78afd83dd4f2d693276                       «не делайте»      1   \n",
       "4c037898975a6fdecdcd870c385dd03f   «ничего не остаётся, кроме как…»      1   \n",
       "c68fb444b2a862496b5e2fe4d6c3cf9d                      будущее время      1   \n",
       "8d6f9dc436fd95966cdf414cffd6377a             догадка, предположение      1   \n",
       "\n",
       "                                                                   related_grammars  \\\n",
       "grammar_id                                                                            \n",
       "602036e488ddf85722f218e49087c45a                    [은/는 выделительная частица, 께서]   \n",
       "bd5253ce8e0b11a7ee24bce4850cb389                                         [하고, (이)랑]   \n",
       "27bcb1cd7ba042c6f7214fdd1ea1cf6c                                         [하고, (이)랑]   \n",
       "2749970a6a7f10f83726d189e561fe78                                      [부터, 에서 «из»]   \n",
       "c7c87e5469bf9ac9161ae90d5bf3e702                      [이/가, 께, 께서는, -(으)시-, -(으)세요]   \n",
       "...                                                                             ...   \n",
       "f2fc97bee878b07d1f8280fbf6ca5543                                                 []   \n",
       "e652e703e0b0a78afd83dd4f2d693276                                           [-(으)세요]   \n",
       "4c037898975a6fdecdcd870c385dd03f                                                 []   \n",
       "c68fb444b2a862496b5e2fe4d6c3cf9d  [**-(으)ㄹ 것이다** догадка, предположение, -겠- буд...   \n",
       "8d6f9dc436fd95966cdf414cffd6377a   [**V/A + -(으)ㄹ 것이다** будущее время, -겠- догадка]   \n",
       "\n",
       "                                                                            content  \n",
       "grammar_id                                                                           \n",
       "602036e488ddf85722f218e49087c45a  **Описание:**\\nЧастицы **이/가** обозначают **им...  \n",
       "bd5253ce8e0b11a7ee24bce4850cb389  **Описание:**\\nИспользуется для перечисления п...  \n",
       "27bcb1cd7ba042c6f7214fdd1ea1cf6c  **Описание:**\\nУказывает на лицо или объект, с...  \n",
       "2749970a6a7f10f83726d189e561fe78  **Описание:**\\nЧастица **까지** используется для...  \n",
       "c7c87e5469bf9ac9161ae90d5bf3e702  **Описание:**\\nЭто **вежливая форма** именител...  \n",
       "...                                                                             ...  \n",
       "f2fc97bee878b07d1f8280fbf6ca5543  **Описание:**\\nКонструкция -아/어도 되다 использует...  \n",
       "e652e703e0b0a78afd83dd4f2d693276  **Описание:**\\nКонструкция -지 말다 используется ...  \n",
       "4c037898975a6fdecdcd870c385dd03f  **Описание:**\\nКонструкция -(으)ㄹ 수밖에 없다 исполь...  \n",
       "c68fb444b2a862496b5e2fe4d6c3cf9d  **Описание:**\\nКонструкция используется для вы...  \n",
       "8d6f9dc436fd95966cdf414cffd6377a  **Описание:**\\nКонструкция используется для **...  \n",
       "\n",
       "[108 rows x 5 columns]"
      ],
      "text/html": [
       "<div>\n",
       "<style scoped>\n",
       "    .dataframe tbody tr th:only-of-type {\n",
       "        vertical-align: middle;\n",
       "    }\n",
       "\n",
       "    .dataframe tbody tr th {\n",
       "        vertical-align: top;\n",
       "    }\n",
       "\n",
       "    .dataframe thead th {\n",
       "        text-align: right;\n",
       "    }\n",
       "</style>\n",
       "<table border=\"1\" class=\"dataframe\">\n",
       "  <thead>\n",
       "    <tr style=\"text-align: right;\">\n",
       "      <th></th>\n",
       "      <th>grammar_name_kr</th>\n",
       "      <th>grammar_name_rus</th>\n",
       "      <th>level</th>\n",
       "      <th>related_grammars</th>\n",
       "      <th>content</th>\n",
       "    </tr>\n",
       "    <tr>\n",
       "      <th>grammar_id</th>\n",
       "      <th></th>\n",
       "      <th></th>\n",
       "      <th></th>\n",
       "      <th></th>\n",
       "      <th></th>\n",
       "    </tr>\n",
       "  </thead>\n",
       "  <tbody>\n",
       "    <tr>\n",
       "      <th>602036e488ddf85722f218e49087c45a</th>\n",
       "      <td>이/가</td>\n",
       "      <td>именительный падеж</td>\n",
       "      <td>1</td>\n",
       "      <td>[은/는 выделительная частица, 께서]</td>\n",
       "      <td>**Описание:**\\nЧастицы **이/가** обозначают **им...</td>\n",
       "    </tr>\n",
       "    <tr>\n",
       "      <th>bd5253ce8e0b11a7ee24bce4850cb389</th>\n",
       "      <td>와/과</td>\n",
       "      <td>«и», перечисление существительных</td>\n",
       "      <td>1</td>\n",
       "      <td>[하고, (이)랑]</td>\n",
       "      <td>**Описание:**\\nИспользуется для перечисления п...</td>\n",
       "    </tr>\n",
       "    <tr>\n",
       "      <th>27bcb1cd7ba042c6f7214fdd1ea1cf6c</th>\n",
       "      <td>와/과</td>\n",
       "      <td>«с», совместное действие</td>\n",
       "      <td>1</td>\n",
       "      <td>[하고, (이)랑]</td>\n",
       "      <td>**Описание:**\\nУказывает на лицо или объект, с...</td>\n",
       "    </tr>\n",
       "    <tr>\n",
       "      <th>2749970a6a7f10f83726d189e561fe78</th>\n",
       "      <td>까지</td>\n",
       "      <td>«до»</td>\n",
       "      <td>1</td>\n",
       "      <td>[부터, 에서 «из»]</td>\n",
       "      <td>**Описание:**\\nЧастица **까지** используется для...</td>\n",
       "    </tr>\n",
       "    <tr>\n",
       "      <th>c7c87e5469bf9ac9161ae90d5bf3e702</th>\n",
       "      <td>께서</td>\n",
       "      <td>именительный падеж (вежл.)</td>\n",
       "      <td>1</td>\n",
       "      <td>[이/가, 께, 께서는, -(으)시-, -(으)세요]</td>\n",
       "      <td>**Описание:**\\nЭто **вежливая форма** именител...</td>\n",
       "    </tr>\n",
       "    <tr>\n",
       "      <th>...</th>\n",
       "      <td>...</td>\n",
       "      <td>...</td>\n",
       "      <td>...</td>\n",
       "      <td>...</td>\n",
       "      <td>...</td>\n",
       "    </tr>\n",
       "    <tr>\n",
       "      <th>f2fc97bee878b07d1f8280fbf6ca5543</th>\n",
       "      <td>V + -아/어도 되다</td>\n",
       "      <td>«можно, разрешается»</td>\n",
       "      <td>1</td>\n",
       "      <td>[]</td>\n",
       "      <td>**Описание:**\\nКонструкция -아/어도 되다 использует...</td>\n",
       "    </tr>\n",
       "    <tr>\n",
       "      <th>e652e703e0b0a78afd83dd4f2d693276</th>\n",
       "      <td>V + -지 말다</td>\n",
       "      <td>«не делайте»</td>\n",
       "      <td>1</td>\n",
       "      <td>[-(으)세요]</td>\n",
       "      <td>**Описание:**\\nКонструкция -지 말다 используется ...</td>\n",
       "    </tr>\n",
       "    <tr>\n",
       "      <th>4c037898975a6fdecdcd870c385dd03f</th>\n",
       "      <td>V + -(으)ㄹ 수밖에 없다</td>\n",
       "      <td>«ничего не остаётся, кроме как…»</td>\n",
       "      <td>1</td>\n",
       "      <td>[]</td>\n",
       "      <td>**Описание:**\\nКонструкция -(으)ㄹ 수밖에 없다 исполь...</td>\n",
       "    </tr>\n",
       "    <tr>\n",
       "      <th>c68fb444b2a862496b5e2fe4d6c3cf9d</th>\n",
       "      <td>V/A + -(으)ㄹ 것이다</td>\n",
       "      <td>будущее время</td>\n",
       "      <td>1</td>\n",
       "      <td>[**-(으)ㄹ 것이다** догадка, предположение, -겠- буд...</td>\n",
       "      <td>**Описание:**\\nКонструкция используется для вы...</td>\n",
       "    </tr>\n",
       "    <tr>\n",
       "      <th>8d6f9dc436fd95966cdf414cffd6377a</th>\n",
       "      <td>V/A/N + -(으)ㄹ 것이다</td>\n",
       "      <td>догадка, предположение</td>\n",
       "      <td>1</td>\n",
       "      <td>[**V/A + -(으)ㄹ 것이다** будущее время, -겠- догадка]</td>\n",
       "      <td>**Описание:**\\nКонструкция используется для **...</td>\n",
       "    </tr>\n",
       "  </tbody>\n",
       "</table>\n",
       "<p>108 rows × 5 columns</p>\n",
       "</div>"
      ]
     },
     "execution_count": 16,
     "metadata": {},
     "output_type": "execute_result"
    }
   ],
   "execution_count": 16
  },
  {
   "metadata": {},
   "cell_type": "code",
   "outputs": [],
   "execution_count": null,
   "source": "",
   "id": "8d632c1de8bae8ce"
  }
 ],
 "metadata": {
  "kernelspec": {
   "display_name": ".venv",
   "language": "python",
   "name": "python3"
  },
  "language_info": {
   "codemirror_mode": {
    "name": "ipython",
    "version": 3
   },
   "file_extension": ".py",
   "mimetype": "text/x-python",
   "name": "python",
   "nbconvert_exporter": "python",
   "pygments_lexer": "ipython3",
   "version": "3.12.9"
  }
 },
 "nbformat": 4,
 "nbformat_minor": 5
}
